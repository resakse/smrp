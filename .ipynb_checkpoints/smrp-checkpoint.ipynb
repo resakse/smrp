{
 "cells": [
  {
   "cell_type": "code",
   "execution_count": 1,
   "id": "2d7ad052-a6d4-4aba-9fff-a27cb765f814",
   "metadata": {},
   "outputs": [],
   "source": [
    "import os, sys\n",
    "import django\n",
    "PROJECTPATH = '/home/resakse/web/smrp/smrp'\n",
    "sys.path.insert(0, PROJECTPATH)\n",
    "os.environ.setdefault(\"DJANGO_SETTINGS_MODULE\", \"smrp.settings\")\n",
    "os.chdir(PROJECTPATH)\n",
    "django.setup()\n",
    "\n",
    "os.environ[\"DJANGO_ALLOW_ASYNC_UNSAFE\"] = \"true\""
   ]
  },
  {
   "cell_type": "code",
   "execution_count": 2,
   "id": "a61beae9-17f7-4d5e-b791-a6a504e0e0d2",
   "metadata": {},
   "outputs": [
    {
     "data": {
      "text/plain": [
       "<QuerySet [<Ris: Angio Abdominal Aorta>, <Ris: Angio Arch>, <Ris: Angio Carotids/Vertebral>, <Ris: Angio Cerebral>, <Ris: Angio Coeliac>, <Ris: Angio Dacryocystography>, <Ris: Angio Dialysis Fistulogram>, <Ris: Angio Hepatic>, <Ris: Angio Intercostal & Bronchial>, <Ris: Angio Kidney Allograft>, <Ris: Angio Lower Limbs>, <Ris: Angio Pelvis>, <Ris: Angio Pulmonary>, <Ris: Angio Renal>, <Ris: Angio Spinal>, <Ris: Angio Splenic>, <Ris: Angio TIPPS>, <Ris: Angio Thoracic>, <Ris: Angio Upper Limbs>, <Ris: Angio Visceral>, '...(remaining elements truncated)...']>"
      ]
     },
     "execution_count": 2,
     "metadata": {},
     "output_type": "execute_result"
    }
   ],
   "source": [
    "from exam.models import Ris,Smrp\n",
    "Ris.objects.all()"
   ]
  },
  {
   "cell_type": "code",
   "execution_count": 48,
   "id": "452e9fb5-ed8f-44fd-988e-9261898a5917",
   "metadata": {},
   "outputs": [
    {
     "name": "stdout",
     "output_type": "stream",
     "text": [
      "461\n",
      "ABDOMEN\n"
     ]
    }
   ],
   "source": [
    "from openpyxl import load_workbook\n",
    "wb = load_workbook(filename = 'SMRP RIS.xlsx', read_only=True)\n",
    "#sheet_ranges = wb['range names']\n",
    "ws = wb.worksheets[0]\n",
    "def get_maximum_rows(ws,col=0):\n",
    "    rows = 0\n",
    "    for max_row, row in enumerate(ws, 1):\n",
    "        # if not all(cols.value is None for cols in row[0]):\n",
    "        if row[col].value:\n",
    "            # print(row[col].value)\n",
    "            rows += 1\n",
    "    return rows\n",
    "max_rows = get_maximum_rows(ws,8)\n",
    "print(max_rows)\n",
    "print(ws['B3'].value)\n",
    "from tqdm import tqdm"
   ]
  },
  {
   "cell_type": "code",
   "execution_count": 49,
   "id": "c7e9e4a3-e6c9-49ff-bacc-73c84d60f481",
   "metadata": {},
   "outputs": [
    {
     "name": "stdout",
     "output_type": "stream",
     "text": [
      "461\n"
     ]
    },
    {
     "name": "stderr",
     "output_type": "stream",
     "text": [
      "Creating RIS Data...: 100%|█████████▉| 460/461 [00:00<00:00, 5472.58it/s]\n"
     ]
    }
   ],
   "source": [
    "rislist = []\n",
    "col = 8\n",
    "max_rows = get_maximum_rows(ws,col)\n",
    "print(max_rows)\n",
    "pbar = tqdm(total=max_rows,desc='Creating RIS Data...')\n",
    "for row in ws.iter_rows(min_row=2,max_col=10,max_row=max_rows,values_only=True):\n",
    "    if row[9]:\n",
    "        rislist.append(Ris(\n",
    "            code=row[8],\n",
    "            name=row[9]))\n",
    "        pbar.update(1)\n",
    "pbar.close()\n"
   ]
  },
  {
   "cell_type": "code",
   "execution_count": null,
   "id": "e53c96f6-9a78-4848-86fd-3610a2fb9efd",
   "metadata": {},
   "outputs": [],
   "source": [
    "Ris.objects.bulk_create(rislist)"
   ]
  },
  {
   "cell_type": "code",
   "execution_count": 74,
   "id": "22d4a176-93fe-4544-b8fe-85253761f488",
   "metadata": {},
   "outputs": [],
   "source": [
    "rislist = list(Ris.objects.all().values('id','code'))\n",
    "result = {d['code']: d for d in rislist}\n"
   ]
  },
  {
   "cell_type": "code",
   "execution_count": 120,
   "id": "690e753e-a4fc-4201-9b63-83b4f29e7a7f",
   "metadata": {},
   "outputs": [
    {
     "name": "stdout",
     "output_type": "stream",
     "text": [
      "873\n"
     ]
    },
    {
     "name": "stderr",
     "output_type": "stream",
     "text": [
      "\n",
      "Creating RIS Data...:   0%|          | 0/873 [00:24<?, ?it/s]\u001b[A\n",
      "\n",
      "Creating RIS Data...: 100%|█████████▉| 871/873 [00:00<00:00, 5085.38it/s]\u001b[A\n"
     ]
    }
   ],
   "source": [
    "smrplist = []\n",
    "risid = None\n",
    "col = 1\n",
    "max_rows = get_maximum_rows(ws,col)\n",
    "print(max_rows)\n",
    "pbar = tqdm(total=max_rows,desc='Creating RIS Data...')\n",
    "for row in ws.iter_rows(min_row=3,max_col=10,max_row=max_rows,values_only=True):\n",
    "    if row[1]:\n",
    "        # print(row[2])\n",
    "        if row[2] in result:\n",
    "            risid = result[row[2]]['id']\n",
    "        smrplist.append(Smrp(\n",
    "            name=row[1],\n",
    "            ris_id=risid,\n",
    "            jxr='Harris'))\n",
    "        pbar.update(1)\n",
    "pbar.close()"
   ]
  },
  {
   "cell_type": "code",
   "execution_count": null,
   "id": "be80b1c7-c3ed-41ab-8f1b-9df2ae92b3cd",
   "metadata": {},
   "outputs": [],
   "source": [
    "Smrp.objects.bulk_create(smrplist)"
   ]
  },
  {
   "cell_type": "code",
   "execution_count": 3,
   "id": "b4e42206-a1e6-407b-a6f4-6c87c4083d78",
   "metadata": {},
   "outputs": [
    {
     "data": {
      "text/plain": [
       "<QuerySet [<Ris: Angio Abdominal Aorta>, <Ris: Angio Arch>, <Ris: Angio Carotids/Vertebral>, <Ris: Angio Cerebral>, <Ris: Angio Coeliac>, <Ris: Angio Dacryocystography>, <Ris: Angio Dialysis Fistulogram>, <Ris: Angio Hepatic>, <Ris: Angio Intercostal & Bronchial>, <Ris: Angio Kidney Allograft>, <Ris: Angio Lower Limbs>, <Ris: Angio Pelvis>, <Ris: Angio Pulmonary>, <Ris: Angio Renal>, <Ris: Angio Spinal>, <Ris: Angio Splenic>, <Ris: Angio TIPPS>, <Ris: Angio Thoracic>, <Ris: Angio Upper Limbs>, <Ris: Angio Visceral>, '...(remaining elements truncated)...']>"
      ]
     },
     "execution_count": 3,
     "metadata": {},
     "output_type": "execute_result"
    }
   ],
   "source": [
    "Ris.objects.all()"
   ]
  },
  {
   "cell_type": "code",
   "execution_count": 5,
   "id": "a2a5d519-caa7-4fa4-ae69-6ec65ebe8631",
   "metadata": {},
   "outputs": [
    {
     "data": {
      "text/plain": [
       "10"
      ]
     },
     "execution_count": 5,
     "metadata": {},
     "output_type": "execute_result"
    }
   ],
   "source": [
    "Ris.objects.filter(name__contains='CT').update(modaliti='CT')\n",
    "Ris.objects.filter(name__contains='MR').update(modaliti='MRI')\n",
    "Ris.objects.filter(name__contains='CMR').update(modaliti='MF')\n",
    "Ris.objects.filter(name__contains='US').update(modaliti='US')\n",
    "Ris.objects.filter(name__contains='Hardcopy').update(modaliti='HC')\n",
    "Ris.objects.filter(name__contains='Digitize').update(modaliti='DI')\n",
    "Ris.objects.filter(name__contains='Fluoro').update(modaliti='FL')\n",
    "Ris.objects.filter(name__contains='Digitize').update(modaliti='DI')\n",
    "Ris.objects.filter(name__contains='Angio').update(modaliti='XA')\n",
    "Ris.objects.filter(name__contains='C-Arm').update(modaliti='MF')\n",
    "Ris.objects.filter(name__contains='Stereo').update(modaliti='MG')\n",
    "Ris.objects.filter(name__contains='Mammo').update(modaliti='MG')\n"
   ]
  },
  {
   "cell_type": "code",
   "execution_count": 7,
   "id": "0a41d652-1934-4e87-b339-95c78dae4f0e",
   "metadata": {},
   "outputs": [
    {
     "data": {
      "text/plain": [
       "50"
      ]
     },
     "execution_count": 7,
     "metadata": {},
     "output_type": "execute_result"
    }
   ],
   "source": [
    "Ris.objects.filter(name__contains='MRI').update(modaliti='MR')\n"
   ]
  },
  {
   "cell_type": "code",
   "execution_count": 9,
   "id": "c2eabcac-8823-42fa-808e-cbe28800be44",
   "metadata": {},
   "outputs": [],
   "source": [
    "def get_percent(modaliti):\n",
    "    data = {}\n",
    "    obj = Ris.objects.filter(modaliti=modaliti)\n",
    "    data['total'] = obj.count()\n",
    "    taksiap = obj.filter(smrp=None).count()\n",
    "    data['siap'] = obj.count() - taksiap\n",
    "    return data"
   ]
  },
  {
   "cell_type": "code",
   "execution_count": 11,
   "id": "5e59bc76-5af1-4bd5-a23b-37bf00757a95",
   "metadata": {},
   "outputs": [],
   "source": [
    "modaliti_choices = (\n",
    "    ('CT','CT-Scan'),\n",
    "    ('MR','MRI'),\n",
    "    ('XR','General X-Ray'),\n",
    "    ('MG','Mammography'),\n",
    "    ('US','Ultrasound'),\n",
    "    ('FL','Fluoroscopy'),\n",
    "    ('XA','Angiography'),\n",
    "    ('MF','Mobile Fluoro/OT/ERCP'),\n",
    "    ('HC','Hardcopy'),\n",
    "    ('DI','Digitize'),\n",
    "    ('RE','Rad Resources'),\n",
    "    ('RC','Ref Consult'),\n",
    ")"
   ]
  },
  {
   "cell_type": "code",
   "execution_count": 14,
   "id": "46f49da3-45bd-4fa8-b827-2caa4486b5eb",
   "metadata": {},
   "outputs": [
    {
     "name": "stdout",
     "output_type": "stream",
     "text": [
      "CT\n",
      "MR\n",
      "XR\n",
      "MG\n",
      "US\n",
      "FL\n",
      "XA\n",
      "MF\n",
      "HC\n",
      "DI\n",
      "RE\n",
      "RC\n"
     ]
    }
   ],
   "source": [
    "for k,v in modaliti_choices:\n",
    "    "
   ]
  },
  {
   "cell_type": "code",
   "execution_count": null,
   "id": "6818b8f4-aee0-46ed-9bf5-6e6bc55b2243",
   "metadata": {},
   "outputs": [],
   "source": []
  }
 ],
 "metadata": {
  "kernelspec": {
   "display_name": "Python 3 (ipykernel)",
   "language": "python",
   "name": "python3"
  },
  "language_info": {
   "codemirror_mode": {
    "name": "ipython",
    "version": 3
   },
   "file_extension": ".py",
   "mimetype": "text/x-python",
   "name": "python",
   "nbconvert_exporter": "python",
   "pygments_lexer": "ipython3",
   "version": "3.9.2"
  }
 },
 "nbformat": 4,
 "nbformat_minor": 5
}
