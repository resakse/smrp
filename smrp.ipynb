{
 "cells": [
  {
   "cell_type": "code",
   "execution_count": 3,
   "id": "2d7ad052-a6d4-4aba-9fff-a27cb765f814",
   "metadata": {},
   "outputs": [
    {
     "ename": "ModuleNotFoundError",
     "evalue": "No module named 'django_htmx'",
     "output_type": "error",
     "traceback": [
      "\u001b[0;31m---------------------------------------------------------------------------\u001b[0m",
      "\u001b[0;31mModuleNotFoundError\u001b[0m                       Traceback (most recent call last)",
      "Cell \u001b[0;32mIn [3], line 7\u001b[0m\n\u001b[1;32m      5\u001b[0m os\u001b[38;5;241m.\u001b[39menviron\u001b[38;5;241m.\u001b[39msetdefault(\u001b[38;5;124m\"\u001b[39m\u001b[38;5;124mDJANGO_SETTINGS_MODULE\u001b[39m\u001b[38;5;124m\"\u001b[39m, \u001b[38;5;124m\"\u001b[39m\u001b[38;5;124msmrp.settings\u001b[39m\u001b[38;5;124m\"\u001b[39m)\n\u001b[1;32m      6\u001b[0m os\u001b[38;5;241m.\u001b[39mchdir(PROJECTPATH)\n\u001b[0;32m----> 7\u001b[0m \u001b[43mdjango\u001b[49m\u001b[38;5;241;43m.\u001b[39;49m\u001b[43msetup\u001b[49m\u001b[43m(\u001b[49m\u001b[43m)\u001b[49m\n\u001b[1;32m      9\u001b[0m os\u001b[38;5;241m.\u001b[39menviron[\u001b[38;5;124m\"\u001b[39m\u001b[38;5;124mDJANGO_ALLOW_ASYNC_UNSAFE\u001b[39m\u001b[38;5;124m\"\u001b[39m] \u001b[38;5;241m=\u001b[39m \u001b[38;5;124m\"\u001b[39m\u001b[38;5;124mtrue\u001b[39m\u001b[38;5;124m\"\u001b[39m\n",
      "File \u001b[0;32m~/notebook/lib/python3.9/site-packages/django/__init__.py:24\u001b[0m, in \u001b[0;36msetup\u001b[0;34m(set_prefix)\u001b[0m\n\u001b[1;32m     20\u001b[0m \u001b[38;5;28;01mif\u001b[39;00m set_prefix:\n\u001b[1;32m     21\u001b[0m     set_script_prefix(\n\u001b[1;32m     22\u001b[0m         \u001b[38;5;124m\"\u001b[39m\u001b[38;5;124m/\u001b[39m\u001b[38;5;124m\"\u001b[39m \u001b[38;5;28;01mif\u001b[39;00m settings\u001b[38;5;241m.\u001b[39mFORCE_SCRIPT_NAME \u001b[38;5;129;01mis\u001b[39;00m \u001b[38;5;28;01mNone\u001b[39;00m \u001b[38;5;28;01melse\u001b[39;00m settings\u001b[38;5;241m.\u001b[39mFORCE_SCRIPT_NAME\n\u001b[1;32m     23\u001b[0m     )\n\u001b[0;32m---> 24\u001b[0m \u001b[43mapps\u001b[49m\u001b[38;5;241;43m.\u001b[39;49m\u001b[43mpopulate\u001b[49m\u001b[43m(\u001b[49m\u001b[43msettings\u001b[49m\u001b[38;5;241;43m.\u001b[39;49m\u001b[43mINSTALLED_APPS\u001b[49m\u001b[43m)\u001b[49m\n",
      "File \u001b[0;32m~/notebook/lib/python3.9/site-packages/django/apps/registry.py:91\u001b[0m, in \u001b[0;36mApps.populate\u001b[0;34m(self, installed_apps)\u001b[0m\n\u001b[1;32m     89\u001b[0m     app_config \u001b[38;5;241m=\u001b[39m entry\n\u001b[1;32m     90\u001b[0m \u001b[38;5;28;01melse\u001b[39;00m:\n\u001b[0;32m---> 91\u001b[0m     app_config \u001b[38;5;241m=\u001b[39m \u001b[43mAppConfig\u001b[49m\u001b[38;5;241;43m.\u001b[39;49m\u001b[43mcreate\u001b[49m\u001b[43m(\u001b[49m\u001b[43mentry\u001b[49m\u001b[43m)\u001b[49m\n\u001b[1;32m     92\u001b[0m \u001b[38;5;28;01mif\u001b[39;00m app_config\u001b[38;5;241m.\u001b[39mlabel \u001b[38;5;129;01min\u001b[39;00m \u001b[38;5;28mself\u001b[39m\u001b[38;5;241m.\u001b[39mapp_configs:\n\u001b[1;32m     93\u001b[0m     \u001b[38;5;28;01mraise\u001b[39;00m ImproperlyConfigured(\n\u001b[1;32m     94\u001b[0m         \u001b[38;5;124m\"\u001b[39m\u001b[38;5;124mApplication labels aren\u001b[39m\u001b[38;5;124m'\u001b[39m\u001b[38;5;124mt unique, \u001b[39m\u001b[38;5;124m\"\u001b[39m\n\u001b[1;32m     95\u001b[0m         \u001b[38;5;124m\"\u001b[39m\u001b[38;5;124mduplicates: \u001b[39m\u001b[38;5;132;01m%s\u001b[39;00m\u001b[38;5;124m\"\u001b[39m \u001b[38;5;241m%\u001b[39m app_config\u001b[38;5;241m.\u001b[39mlabel\n\u001b[1;32m     96\u001b[0m     )\n",
      "File \u001b[0;32m~/notebook/lib/python3.9/site-packages/django/apps/config.py:193\u001b[0m, in \u001b[0;36mAppConfig.create\u001b[0;34m(cls, entry)\u001b[0m\n\u001b[1;32m    190\u001b[0m         \u001b[38;5;28;01mraise\u001b[39;00m \u001b[38;5;167;01mImportError\u001b[39;00m(msg)\n\u001b[1;32m    191\u001b[0m     \u001b[38;5;28;01melse\u001b[39;00m:\n\u001b[1;32m    192\u001b[0m         \u001b[38;5;66;03m# Re-trigger the module import exception.\u001b[39;00m\n\u001b[0;32m--> 193\u001b[0m         \u001b[43mimport_module\u001b[49m\u001b[43m(\u001b[49m\u001b[43mentry\u001b[49m\u001b[43m)\u001b[49m\n\u001b[1;32m    195\u001b[0m \u001b[38;5;66;03m# Check for obvious errors. (This check prevents duck typing, but\u001b[39;00m\n\u001b[1;32m    196\u001b[0m \u001b[38;5;66;03m# it could be removed if it became a problem in practice.)\u001b[39;00m\n\u001b[1;32m    197\u001b[0m \u001b[38;5;28;01mif\u001b[39;00m \u001b[38;5;129;01mnot\u001b[39;00m \u001b[38;5;28missubclass\u001b[39m(app_config_class, AppConfig):\n",
      "File \u001b[0;32m/usr/lib/python3.9/importlib/__init__.py:127\u001b[0m, in \u001b[0;36mimport_module\u001b[0;34m(name, package)\u001b[0m\n\u001b[1;32m    125\u001b[0m             \u001b[38;5;28;01mbreak\u001b[39;00m\n\u001b[1;32m    126\u001b[0m         level \u001b[38;5;241m+\u001b[39m\u001b[38;5;241m=\u001b[39m \u001b[38;5;241m1\u001b[39m\n\u001b[0;32m--> 127\u001b[0m \u001b[38;5;28;01mreturn\u001b[39;00m \u001b[43m_bootstrap\u001b[49m\u001b[38;5;241;43m.\u001b[39;49m\u001b[43m_gcd_import\u001b[49m\u001b[43m(\u001b[49m\u001b[43mname\u001b[49m\u001b[43m[\u001b[49m\u001b[43mlevel\u001b[49m\u001b[43m:\u001b[49m\u001b[43m]\u001b[49m\u001b[43m,\u001b[49m\u001b[43m \u001b[49m\u001b[43mpackage\u001b[49m\u001b[43m,\u001b[49m\u001b[43m \u001b[49m\u001b[43mlevel\u001b[49m\u001b[43m)\u001b[49m\n",
      "File \u001b[0;32m<frozen importlib._bootstrap>:1030\u001b[0m, in \u001b[0;36m_gcd_import\u001b[0;34m(name, package, level)\u001b[0m\n",
      "File \u001b[0;32m<frozen importlib._bootstrap>:1007\u001b[0m, in \u001b[0;36m_find_and_load\u001b[0;34m(name, import_)\u001b[0m\n",
      "File \u001b[0;32m<frozen importlib._bootstrap>:984\u001b[0m, in \u001b[0;36m_find_and_load_unlocked\u001b[0;34m(name, import_)\u001b[0m\n",
      "\u001b[0;31mModuleNotFoundError\u001b[0m: No module named 'django_htmx'"
     ]
    }
   ],
   "source": [
    "import os, sys\n",
    "import django\n",
    "PROJECTPATH = '/home/resakse/web/smrp/smrp'\n",
    "sys.path.insert(0, PROJECTPATH)\n",
    "os.environ.setdefault(\"DJANGO_SETTINGS_MODULE\", \"smrp.settings\")\n",
    "os.chdir(PROJECTPATH)\n",
    "django.setup()\n",
    "\n",
    "os.environ[\"DJANGO_ALLOW_ASYNC_UNSAFE\"] = \"true\""
   ]
  },
  {
   "cell_type": "code",
   "execution_count": 2,
   "id": "a61beae9-17f7-4d5e-b791-a6a504e0e0d2",
   "metadata": {},
   "outputs": [
    {
     "ename": "ImproperlyConfigured",
     "evalue": "Requested setting INSTALLED_APPS, but settings are not configured. You must either define the environment variable DJANGO_SETTINGS_MODULE or call settings.configure() before accessing settings.",
     "output_type": "error",
     "traceback": [
      "\u001b[0;31m---------------------------------------------------------------------------\u001b[0m",
      "\u001b[0;31mImproperlyConfigured\u001b[0m                      Traceback (most recent call last)",
      "Cell \u001b[0;32mIn [2], line 1\u001b[0m\n\u001b[0;32m----> 1\u001b[0m \u001b[38;5;28;01mfrom\u001b[39;00m \u001b[38;5;21;01mexam\u001b[39;00m\u001b[38;5;21;01m.\u001b[39;00m\u001b[38;5;21;01mmodels\u001b[39;00m \u001b[38;5;28;01mimport\u001b[39;00m Ris,Smrp\n\u001b[1;32m      2\u001b[0m Ris\u001b[38;5;241m.\u001b[39mobjects\u001b[38;5;241m.\u001b[39mall()\n",
      "File \u001b[0;32m~/web/smrp/smrp/exam/models.py:21\u001b[0m\n\u001b[1;32m      3\u001b[0m modaliti_choices \u001b[38;5;241m=\u001b[39m (\n\u001b[1;32m      4\u001b[0m     (\u001b[38;5;124m'\u001b[39m\u001b[38;5;124mCT\u001b[39m\u001b[38;5;124m'\u001b[39m,\u001b[38;5;124m'\u001b[39m\u001b[38;5;124mCT-Scan\u001b[39m\u001b[38;5;124m'\u001b[39m),\n\u001b[1;32m      5\u001b[0m     (\u001b[38;5;124m'\u001b[39m\u001b[38;5;124mMR\u001b[39m\u001b[38;5;124m'\u001b[39m,\u001b[38;5;124m'\u001b[39m\u001b[38;5;124mMRI\u001b[39m\u001b[38;5;124m'\u001b[39m),\n\u001b[0;32m   (...)\u001b[0m\n\u001b[1;32m     15\u001b[0m     (\u001b[38;5;124m'\u001b[39m\u001b[38;5;124mRC\u001b[39m\u001b[38;5;124m'\u001b[39m,\u001b[38;5;124m'\u001b[39m\u001b[38;5;124mRef Consult\u001b[39m\u001b[38;5;124m'\u001b[39m),\n\u001b[1;32m     16\u001b[0m )\n\u001b[1;32m     17\u001b[0m \u001b[38;5;66;03m# Create your models here.\u001b[39;00m\n\u001b[0;32m---> 21\u001b[0m \u001b[38;5;28;01mclass\u001b[39;00m \u001b[38;5;21;01mSmrp\u001b[39;00m(models\u001b[38;5;241m.\u001b[39mModel):\n\u001b[1;32m     23\u001b[0m     name \u001b[38;5;241m=\u001b[39m models\u001b[38;5;241m.\u001b[39mCharField(max_length\u001b[38;5;241m=\u001b[39m\u001b[38;5;241m50\u001b[39m)\n\u001b[1;32m     24\u001b[0m     modaliti \u001b[38;5;241m=\u001b[39m models\u001b[38;5;241m.\u001b[39mCharField(choices\u001b[38;5;241m=\u001b[39mmodaliti_choices,default\u001b[38;5;241m=\u001b[39m\u001b[38;5;124m'\u001b[39m\u001b[38;5;124mXR\u001b[39m\u001b[38;5;124m'\u001b[39m, max_length\u001b[38;5;241m=\u001b[39m\u001b[38;5;241m50\u001b[39m)\n",
      "File \u001b[0;32m~/notebook/lib/python3.9/site-packages/django/db/models/base.py:127\u001b[0m, in \u001b[0;36mModelBase.__new__\u001b[0;34m(cls, name, bases, attrs, **kwargs)\u001b[0m\n\u001b[1;32m    124\u001b[0m app_label \u001b[38;5;241m=\u001b[39m \u001b[38;5;28;01mNone\u001b[39;00m\n\u001b[1;32m    126\u001b[0m \u001b[38;5;66;03m# Look for an application configuration to attach the model to.\u001b[39;00m\n\u001b[0;32m--> 127\u001b[0m app_config \u001b[38;5;241m=\u001b[39m \u001b[43mapps\u001b[49m\u001b[38;5;241;43m.\u001b[39;49m\u001b[43mget_containing_app_config\u001b[49m\u001b[43m(\u001b[49m\u001b[43mmodule\u001b[49m\u001b[43m)\u001b[49m\n\u001b[1;32m    129\u001b[0m \u001b[38;5;28;01mif\u001b[39;00m \u001b[38;5;28mgetattr\u001b[39m(meta, \u001b[38;5;124m\"\u001b[39m\u001b[38;5;124mapp_label\u001b[39m\u001b[38;5;124m\"\u001b[39m, \u001b[38;5;28;01mNone\u001b[39;00m) \u001b[38;5;129;01mis\u001b[39;00m \u001b[38;5;28;01mNone\u001b[39;00m:\n\u001b[1;32m    130\u001b[0m     \u001b[38;5;28;01mif\u001b[39;00m app_config \u001b[38;5;129;01mis\u001b[39;00m \u001b[38;5;28;01mNone\u001b[39;00m:\n",
      "File \u001b[0;32m~/notebook/lib/python3.9/site-packages/django/apps/registry.py:260\u001b[0m, in \u001b[0;36mApps.get_containing_app_config\u001b[0;34m(self, object_name)\u001b[0m\n\u001b[1;32m    251\u001b[0m \u001b[38;5;28;01mdef\u001b[39;00m \u001b[38;5;21mget_containing_app_config\u001b[39m(\u001b[38;5;28mself\u001b[39m, object_name):\n\u001b[1;32m    252\u001b[0m     \u001b[38;5;124;03m\"\"\"\u001b[39;00m\n\u001b[1;32m    253\u001b[0m \u001b[38;5;124;03m    Look for an app config containing a given object.\u001b[39;00m\n\u001b[1;32m    254\u001b[0m \n\u001b[0;32m   (...)\u001b[0m\n\u001b[1;32m    258\u001b[0m \u001b[38;5;124;03m    Return None if the object isn't in any registered app config.\u001b[39;00m\n\u001b[1;32m    259\u001b[0m \u001b[38;5;124;03m    \"\"\"\u001b[39;00m\n\u001b[0;32m--> 260\u001b[0m     \u001b[38;5;28;43mself\u001b[39;49m\u001b[38;5;241;43m.\u001b[39;49m\u001b[43mcheck_apps_ready\u001b[49m\u001b[43m(\u001b[49m\u001b[43m)\u001b[49m\n\u001b[1;32m    261\u001b[0m     candidates \u001b[38;5;241m=\u001b[39m []\n\u001b[1;32m    262\u001b[0m     \u001b[38;5;28;01mfor\u001b[39;00m app_config \u001b[38;5;129;01min\u001b[39;00m \u001b[38;5;28mself\u001b[39m\u001b[38;5;241m.\u001b[39mapp_configs\u001b[38;5;241m.\u001b[39mvalues():\n",
      "File \u001b[0;32m~/notebook/lib/python3.9/site-packages/django/apps/registry.py:137\u001b[0m, in \u001b[0;36mApps.check_apps_ready\u001b[0;34m(self)\u001b[0m\n\u001b[1;32m    132\u001b[0m \u001b[38;5;28;01mfrom\u001b[39;00m \u001b[38;5;21;01mdjango\u001b[39;00m\u001b[38;5;21;01m.\u001b[39;00m\u001b[38;5;21;01mconf\u001b[39;00m \u001b[38;5;28;01mimport\u001b[39;00m settings\n\u001b[1;32m    134\u001b[0m \u001b[38;5;66;03m# If \"not ready\" is due to unconfigured settings, accessing\u001b[39;00m\n\u001b[1;32m    135\u001b[0m \u001b[38;5;66;03m# INSTALLED_APPS raises a more helpful ImproperlyConfigured\u001b[39;00m\n\u001b[1;32m    136\u001b[0m \u001b[38;5;66;03m# exception.\u001b[39;00m\n\u001b[0;32m--> 137\u001b[0m \u001b[43msettings\u001b[49m\u001b[38;5;241;43m.\u001b[39;49m\u001b[43mINSTALLED_APPS\u001b[49m\n\u001b[1;32m    138\u001b[0m \u001b[38;5;28;01mraise\u001b[39;00m AppRegistryNotReady(\u001b[38;5;124m\"\u001b[39m\u001b[38;5;124mApps aren\u001b[39m\u001b[38;5;124m'\u001b[39m\u001b[38;5;124mt loaded yet.\u001b[39m\u001b[38;5;124m\"\u001b[39m)\n",
      "File \u001b[0;32m~/notebook/lib/python3.9/site-packages/django/conf/__init__.py:92\u001b[0m, in \u001b[0;36mLazySettings.__getattr__\u001b[0;34m(self, name)\u001b[0m\n\u001b[1;32m     90\u001b[0m \u001b[38;5;124;03m\"\"\"Return the value of a setting and cache it in self.__dict__.\"\"\"\u001b[39;00m\n\u001b[1;32m     91\u001b[0m \u001b[38;5;28;01mif\u001b[39;00m (_wrapped \u001b[38;5;241m:=\u001b[39m \u001b[38;5;28mself\u001b[39m\u001b[38;5;241m.\u001b[39m_wrapped) \u001b[38;5;129;01mis\u001b[39;00m empty:\n\u001b[0;32m---> 92\u001b[0m     \u001b[38;5;28;43mself\u001b[39;49m\u001b[38;5;241;43m.\u001b[39;49m\u001b[43m_setup\u001b[49m\u001b[43m(\u001b[49m\u001b[43mname\u001b[49m\u001b[43m)\u001b[49m\n\u001b[1;32m     93\u001b[0m     _wrapped \u001b[38;5;241m=\u001b[39m \u001b[38;5;28mself\u001b[39m\u001b[38;5;241m.\u001b[39m_wrapped\n\u001b[1;32m     94\u001b[0m val \u001b[38;5;241m=\u001b[39m \u001b[38;5;28mgetattr\u001b[39m(_wrapped, name)\n",
      "File \u001b[0;32m~/notebook/lib/python3.9/site-packages/django/conf/__init__.py:72\u001b[0m, in \u001b[0;36mLazySettings._setup\u001b[0;34m(self, name)\u001b[0m\n\u001b[1;32m     70\u001b[0m \u001b[38;5;28;01mif\u001b[39;00m \u001b[38;5;129;01mnot\u001b[39;00m settings_module:\n\u001b[1;32m     71\u001b[0m     desc \u001b[38;5;241m=\u001b[39m (\u001b[38;5;124m\"\u001b[39m\u001b[38;5;124msetting \u001b[39m\u001b[38;5;132;01m%s\u001b[39;00m\u001b[38;5;124m\"\u001b[39m \u001b[38;5;241m%\u001b[39m name) \u001b[38;5;28;01mif\u001b[39;00m name \u001b[38;5;28;01melse\u001b[39;00m \u001b[38;5;124m\"\u001b[39m\u001b[38;5;124msettings\u001b[39m\u001b[38;5;124m\"\u001b[39m\n\u001b[0;32m---> 72\u001b[0m     \u001b[38;5;28;01mraise\u001b[39;00m ImproperlyConfigured(\n\u001b[1;32m     73\u001b[0m         \u001b[38;5;124m\"\u001b[39m\u001b[38;5;124mRequested \u001b[39m\u001b[38;5;132;01m%s\u001b[39;00m\u001b[38;5;124m, but settings are not configured. \u001b[39m\u001b[38;5;124m\"\u001b[39m\n\u001b[1;32m     74\u001b[0m         \u001b[38;5;124m\"\u001b[39m\u001b[38;5;124mYou must either define the environment variable \u001b[39m\u001b[38;5;132;01m%s\u001b[39;00m\u001b[38;5;124m \u001b[39m\u001b[38;5;124m\"\u001b[39m\n\u001b[1;32m     75\u001b[0m         \u001b[38;5;124m\"\u001b[39m\u001b[38;5;124mor call settings.configure() before accessing settings.\u001b[39m\u001b[38;5;124m\"\u001b[39m\n\u001b[1;32m     76\u001b[0m         \u001b[38;5;241m%\u001b[39m (desc, ENVIRONMENT_VARIABLE)\n\u001b[1;32m     77\u001b[0m     )\n\u001b[1;32m     79\u001b[0m \u001b[38;5;28mself\u001b[39m\u001b[38;5;241m.\u001b[39m_wrapped \u001b[38;5;241m=\u001b[39m Settings(settings_module)\n",
      "\u001b[0;31mImproperlyConfigured\u001b[0m: Requested setting INSTALLED_APPS, but settings are not configured. You must either define the environment variable DJANGO_SETTINGS_MODULE or call settings.configure() before accessing settings."
     ]
    }
   ],
   "source": [
    "from exam.models import Ris,Smrp\n",
    "Ris.objects.all()"
   ]
  },
  {
   "cell_type": "code",
   "execution_count": 48,
   "id": "452e9fb5-ed8f-44fd-988e-9261898a5917",
   "metadata": {},
   "outputs": [
    {
     "name": "stdout",
     "output_type": "stream",
     "text": [
      "461\n",
      "ABDOMEN\n"
     ]
    }
   ],
   "source": [
    "from openpyxl import load_workbook\n",
    "wb = load_workbook(filename = 'SMRP RIS.xlsx', read_only=True)\n",
    "#sheet_ranges = wb['range names']\n",
    "ws = wb.worksheets[0]\n",
    "def get_maximum_rows(ws,col=0):\n",
    "    rows = 0\n",
    "    for max_row, row in enumerate(ws, 1):\n",
    "        # if not all(cols.value is None for cols in row[0]):\n",
    "        if row[col].value:\n",
    "            # print(row[col].value)\n",
    "            rows += 1\n",
    "    return rows\n",
    "max_rows = get_maximum_rows(ws,8)\n",
    "print(max_rows)\n",
    "print(ws['B3'].value)\n",
    "from tqdm import tqdm"
   ]
  },
  {
   "cell_type": "code",
   "execution_count": 49,
   "id": "c7e9e4a3-e6c9-49ff-bacc-73c84d60f481",
   "metadata": {},
   "outputs": [
    {
     "name": "stdout",
     "output_type": "stream",
     "text": [
      "461\n"
     ]
    },
    {
     "name": "stderr",
     "output_type": "stream",
     "text": [
      "Creating RIS Data...: 100%|█████████▉| 460/461 [00:00<00:00, 5472.58it/s]\n"
     ]
    }
   ],
   "source": [
    "rislist = []\n",
    "col = 8\n",
    "max_rows = get_maximum_rows(ws,col)\n",
    "print(max_rows)\n",
    "pbar = tqdm(total=max_rows,desc='Creating RIS Data...')\n",
    "for row in ws.iter_rows(min_row=2,max_col=10,max_row=max_rows,values_only=True):\n",
    "    if row[9]:\n",
    "        rislist.append(Ris(\n",
    "            code=row[8],\n",
    "            name=row[9]))\n",
    "        pbar.update(1)\n",
    "pbar.close()\n"
   ]
  },
  {
   "cell_type": "code",
   "execution_count": null,
   "id": "e53c96f6-9a78-4848-86fd-3610a2fb9efd",
   "metadata": {},
   "outputs": [],
   "source": [
    "Ris.objects.bulk_create(rislist)"
   ]
  },
  {
   "cell_type": "code",
   "execution_count": 74,
   "id": "22d4a176-93fe-4544-b8fe-85253761f488",
   "metadata": {},
   "outputs": [],
   "source": [
    "rislist = list(Ris.objects.all().values('id','code'))\n",
    "result = {d['code']: d for d in rislist}\n"
   ]
  },
  {
   "cell_type": "code",
   "execution_count": 120,
   "id": "690e753e-a4fc-4201-9b63-83b4f29e7a7f",
   "metadata": {},
   "outputs": [
    {
     "name": "stdout",
     "output_type": "stream",
     "text": [
      "873\n"
     ]
    },
    {
     "name": "stderr",
     "output_type": "stream",
     "text": [
      "\n",
      "Creating RIS Data...:   0%|          | 0/873 [00:24<?, ?it/s]\u001b[A\n",
      "\n",
      "Creating RIS Data...: 100%|█████████▉| 871/873 [00:00<00:00, 5085.38it/s]\u001b[A\n"
     ]
    }
   ],
   "source": [
    "smrplist = []\n",
    "risid = None\n",
    "col = 1\n",
    "max_rows = get_maximum_rows(ws,col)\n",
    "print(max_rows)\n",
    "pbar = tqdm(total=max_rows,desc='Creating RIS Data...')\n",
    "for row in ws.iter_rows(min_row=3,max_col=10,max_row=max_rows,values_only=True):\n",
    "    if row[1]:\n",
    "        # print(row[2])\n",
    "        if row[2] in result:\n",
    "            risid = result[row[2]]['id']\n",
    "        smrplist.append(Smrp(\n",
    "            name=row[1],\n",
    "            ris_id=risid,\n",
    "            jxr='Harris'))\n",
    "        pbar.update(1)\n",
    "pbar.close()"
   ]
  },
  {
   "cell_type": "code",
   "execution_count": null,
   "id": "be80b1c7-c3ed-41ab-8f1b-9df2ae92b3cd",
   "metadata": {},
   "outputs": [],
   "source": [
    "Smrp.objects.bulk_create(smrplist)"
   ]
  },
  {
   "cell_type": "code",
   "execution_count": 3,
   "id": "b4e42206-a1e6-407b-a6f4-6c87c4083d78",
   "metadata": {},
   "outputs": [
    {
     "data": {
      "text/plain": [
       "<QuerySet [<Ris: Angio Abdominal Aorta>, <Ris: Angio Arch>, <Ris: Angio Carotids/Vertebral>, <Ris: Angio Cerebral>, <Ris: Angio Coeliac>, <Ris: Angio Dacryocystography>, <Ris: Angio Dialysis Fistulogram>, <Ris: Angio Hepatic>, <Ris: Angio Intercostal & Bronchial>, <Ris: Angio Kidney Allograft>, <Ris: Angio Lower Limbs>, <Ris: Angio Pelvis>, <Ris: Angio Pulmonary>, <Ris: Angio Renal>, <Ris: Angio Spinal>, <Ris: Angio Splenic>, <Ris: Angio TIPPS>, <Ris: Angio Thoracic>, <Ris: Angio Upper Limbs>, <Ris: Angio Visceral>, '...(remaining elements truncated)...']>"
      ]
     },
     "execution_count": 3,
     "metadata": {},
     "output_type": "execute_result"
    }
   ],
   "source": [
    "Ris.objects.all()"
   ]
  },
  {
   "cell_type": "code",
   "execution_count": 5,
   "id": "a2a5d519-caa7-4fa4-ae69-6ec65ebe8631",
   "metadata": {},
   "outputs": [
    {
     "data": {
      "text/plain": [
       "10"
      ]
     },
     "execution_count": 5,
     "metadata": {},
     "output_type": "execute_result"
    }
   ],
   "source": [
    "Ris.objects.filter(name__contains='CT').update(modaliti='CT')\n",
    "Ris.objects.filter(name__contains='MR').update(modaliti='MRI')\n",
    "Ris.objects.filter(name__contains='CMR').update(modaliti='MF')\n",
    "Ris.objects.filter(name__contains='US').update(modaliti='US')\n",
    "Ris.objects.filter(name__contains='Hardcopy').update(modaliti='HC')\n",
    "Ris.objects.filter(name__contains='Digitize').update(modaliti='DI')\n",
    "Ris.objects.filter(name__contains='Fluoro').update(modaliti='FL')\n",
    "Ris.objects.filter(name__contains='Digitize').update(modaliti='DI')\n",
    "Ris.objects.filter(name__contains='Angio').update(modaliti='XA')\n",
    "Ris.objects.filter(name__contains='C-Arm').update(modaliti='MF')\n",
    "Ris.objects.filter(name__contains='Stereo').update(modaliti='MG')\n",
    "Ris.objects.filter(name__contains='Mammo').update(modaliti='MG')\n"
   ]
  },
  {
   "cell_type": "code",
   "execution_count": 7,
   "id": "0a41d652-1934-4e87-b339-95c78dae4f0e",
   "metadata": {},
   "outputs": [
    {
     "data": {
      "text/plain": [
       "50"
      ]
     },
     "execution_count": 7,
     "metadata": {},
     "output_type": "execute_result"
    }
   ],
   "source": [
    "Ris.objects.filter(name__contains='MRI').update(modaliti='MR')\n"
   ]
  },
  {
   "cell_type": "code",
   "execution_count": 3,
   "id": "c2eabcac-8823-42fa-808e-cbe28800be44",
   "metadata": {},
   "outputs": [],
   "source": [
    "def get_percent(modaliti):\n",
    "    data = {}\n",
    "    obj = Ris.objects.filter(modaliti=modaliti)\n",
    "    data['total'] = obj.count()\n",
    "    taksiap = obj.filter(smrp=None).count()\n",
    "    data['siap'] = obj.count() - taksiap\n",
    "    return data"
   ]
  },
  {
   "cell_type": "code",
   "execution_count": 4,
   "id": "5e59bc76-5af1-4bd5-a23b-37bf00757a95",
   "metadata": {},
   "outputs": [],
   "source": [
    "modaliti_choices = (\n",
    "    ('CT','CT-Scan'),\n",
    "    ('MR','MRI'),\n",
    "    ('XR','General X-Ray'),\n",
    "    ('MG','Mammography'),\n",
    "    ('US','Ultrasound'),\n",
    "    ('FL','Fluoroscopy'),\n",
    "    ('XA','Angiography'),\n",
    "    ('MF','Mobile Fluoro/OT/ERCP'),\n",
    "    ('HC','Hardcopy'),\n",
    "    ('DI','Digitize'),\n",
    "    ('RE','Rad Resources'),\n",
    "    ('RC','Ref Consult'),\n",
    ")"
   ]
  },
  {
   "cell_type": "code",
   "execution_count": 5,
   "id": "46f49da3-45bd-4fa8-b827-2caa4486b5eb",
   "metadata": {},
   "outputs": [],
   "source": [
    "progress = []\n",
    "for k,v in modaliti_choices:\n",
    "    progress.append({v: get_percent(k)})"
   ]
  },
  {
   "cell_type": "code",
   "execution_count": 6,
   "id": "6818b8f4-aee0-46ed-9bf5-6e6bc55b2243",
   "metadata": {},
   "outputs": [],
   "source": [
    "ris = Ris.objects.filter(modaliti='CT')"
   ]
  },
  {
   "cell_type": "code",
   "execution_count": 7,
   "id": "e14eb7d8-e82a-4a61-8d9b-8442b42143ce",
   "metadata": {},
   "outputs": [
    {
     "data": {
      "text/plain": [
       "62"
      ]
     },
     "execution_count": 7,
     "metadata": {},
     "output_type": "execute_result"
    }
   ],
   "source": [
    "ris.count()"
   ]
  },
  {
   "cell_type": "code",
   "execution_count": 8,
   "id": "519ad2d1-b6f9-4d4a-a0ea-25afd83bc8ea",
   "metadata": {},
   "outputs": [
    {
     "data": {
      "text/plain": [
       "49"
      ]
     },
     "execution_count": 8,
     "metadata": {},
     "output_type": "execute_result"
    }
   ],
   "source": [
    "ris.filter(smrp=None).count()"
   ]
  },
  {
   "cell_type": "code",
   "execution_count": 10,
   "id": "1e2b3b27-cf3d-4fe9-929b-d3ab0982a7c6",
   "metadata": {},
   "outputs": [
    {
     "data": {
      "text/plain": [
       "[{'CT-Scan': {'total': 62, 'siap': 13}},\n",
       " {'MRI': {'total': 67, 'siap': 0}},\n",
       " {'General X-Ray': {'total': 61, 'siap': 2}},\n",
       " {'Mammography': {'total': 10, 'siap': 0}},\n",
       " {'Ultrasound': {'total': 40, 'siap': 0}},\n",
       " {'Fluoroscopy': {'total': 36, 'siap': 0}},\n",
       " {'Angiography': {'total': 145, 'siap': 0}},\n",
       " {'Mobile Fluoro/OT/ERCP': {'total': 5, 'siap': 0}},\n",
       " {'Hardcopy': {'total': 10, 'siap': 10}},\n",
       " {'Digitize': {'total': 11, 'siap': 11}},\n",
       " {'Rad Resources': {'total': 2, 'siap': 0}},\n",
       " {'Ref Consult': {'total': 10, 'siap': 0}}]"
      ]
     },
     "execution_count": 10,
     "metadata": {},
     "output_type": "execute_result"
    }
   ],
   "source": [
    "progress\n"
   ]
  },
  {
   "cell_type": "code",
   "execution_count": 7,
   "id": "1821b7e1-8f96-4a30-8faa-1fb3f2f32f1e",
   "metadata": {},
   "outputs": [
    {
     "ename": "SyntaxError",
     "evalue": "invalid syntax (2119742742.py, line 2)",
     "output_type": "error",
     "traceback": [
      "\u001b[0;36m  Cell \u001b[0;32mIn [7], line 2\u001b[0;36m\u001b[0m\n\u001b[0;31m    row_num=2\u001b[0m\n\u001b[0m    ^\u001b[0m\n\u001b[0;31mSyntaxError\u001b[0m\u001b[0;31m:\u001b[0m invalid syntax\n"
     ]
    }
   ],
   "source": [
    "rows = Ris.objects.annotate(mesin=Concat(get_modaliti_display).values_list('code', 'name', 'modaliti', 'smrp')\n",
    "row_num=2\n",
    "for row in rows:\n",
    "    for col_num in range(1,len(row)):\n",
    "        # ws.cell(row=row_num,column=col_num, value=str(rows[col_num]))\n",
    "        print(row[col_num])\n",
    "    row_num += 1\n",
    "    print(row_num)"
   ]
  },
  {
   "cell_type": "code",
   "execution_count": 10,
   "id": "9e372674-1fd3-4b4a-b379-8b8e41c95148",
   "metadata": {},
   "outputs": [
    {
     "ename": "AttributeError",
     "evalue": "type object 'Ris' has no attribute 'Ris'",
     "output_type": "error",
     "traceback": [
      "\u001b[0;31m---------------------------------------------------------------------------\u001b[0m",
      "\u001b[0;31mAttributeError\u001b[0m                            Traceback (most recent call last)",
      "Cell \u001b[0;32mIn [10], line 1\u001b[0m\n\u001b[0;32m----> 1\u001b[0m a \u001b[38;5;241m=\u001b[39m \u001b[43mRis\u001b[49m\u001b[38;5;241;43m.\u001b[39;49m\u001b[43mRis\u001b[49m\u001b[38;5;241m.\u001b[39mobjects\u001b[38;5;241m.\u001b[39mannotate(mesin\u001b[38;5;241m=\u001b[39mConcat(get_modaliti_display))\u001b[38;5;241m.\u001b[39mvalues_list(\u001b[38;5;124m'\u001b[39m\u001b[38;5;124mcode\u001b[39m\u001b[38;5;124m'\u001b[39m, \u001b[38;5;124m'\u001b[39m\u001b[38;5;124mname\u001b[39m\u001b[38;5;124m'\u001b[39m, \u001b[38;5;124m'\u001b[39m\u001b[38;5;124mmodaliti\u001b[39m\u001b[38;5;124m'\u001b[39m, \u001b[38;5;124m'\u001b[39m\u001b[38;5;124msmrp\u001b[39m\u001b[38;5;124m'\u001b[39m)\n",
      "\u001b[0;31mAttributeError\u001b[0m: type object 'Ris' has no attribute 'Ris'"
     ]
    }
   ],
   "source": [
    "a = Ris.Ris.objects.annotate(mesin=Concat(get_modaliti_display)).values_list('code', 'name', 'modaliti', 'smrp')\n"
   ]
  },
  {
   "cell_type": "code",
   "execution_count": 6,
   "id": "c1672ced-2a1d-4a01-a80a-ee926173dbe8",
   "metadata": {},
   "outputs": [
    {
     "data": {
      "text/plain": [
       "'Angiography'"
      ]
     },
     "execution_count": 6,
     "metadata": {},
     "output_type": "execute_result"
    }
   ],
   "source": [
    "risku = Ris.objects.first()\n",
    "risku.mesin"
   ]
  },
  {
   "cell_type": "code",
   "execution_count": 21,
   "id": "a70a94d0-d7f3-4bb5-b331-fabca915060b",
   "metadata": {},
   "outputs": [],
   "source": [
    "from django.db.models import Case, CharField, Value, When\n",
    "\n",
    "choices = dict(Ris._meta.get_field('modaliti').flatchoices)\n",
    "whens = [When(modaliti=k, then=Value(v)) for k, v in choices.items()]\n",
    "survey_counts = (\n",
    "    list(Ris.objects\n",
    "    .annotate(get_modaliti_display=Case(*whens, output_field=CharField()))\n",
    "    .values_list('code', 'name','get_modaliti_display','smrp'))\n",
    ")\n"
   ]
  },
  {
   "cell_type": "code",
   "execution_count": 1,
   "id": "0824a9a3-4b3c-415a-abd5-3983ab387893",
   "metadata": {},
   "outputs": [
    {
     "ename": "NameError",
     "evalue": "name 'Ris' is not defined",
     "output_type": "error",
     "traceback": [
      "\u001b[0;31m---------------------------------------------------------------------------\u001b[0m",
      "\u001b[0;31mNameError\u001b[0m                                 Traceback (most recent call last)",
      "Cell \u001b[0;32mIn [1], line 1\u001b[0m\n\u001b[0;32m----> 1\u001b[0m \u001b[43mRis\u001b[49m\u001b[38;5;241m.\u001b[39mobjects\u001b[38;5;241m.\u001b[39mall()\n",
      "\u001b[0;31mNameError\u001b[0m: name 'Ris' is not defined"
     ]
    }
   ],
   "source": [
    "Ris.objects.all()"
   ]
  },
  {
   "cell_type": "code",
   "execution_count": null,
   "id": "d60d4d32-5071-414b-8a57-5d33c1850a6b",
   "metadata": {},
   "outputs": [],
   "source": []
  }
 ],
 "metadata": {
  "kernelspec": {
   "display_name": "Python 3 (ipykernel)",
   "language": "python",
   "name": "python3"
  },
  "language_info": {
   "codemirror_mode": {
    "name": "ipython",
    "version": 3
   },
   "file_extension": ".py",
   "mimetype": "text/x-python",
   "name": "python",
   "nbconvert_exporter": "python",
   "pygments_lexer": "ipython3",
   "version": "3.9.2"
  }
 },
 "nbformat": 4,
 "nbformat_minor": 5
}
